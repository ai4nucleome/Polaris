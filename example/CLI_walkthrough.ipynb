{
 "cells": [
  {
   "cell_type": "markdown",
   "metadata": {},
   "source": [
    "# Polaris command line interface"
   ]
  },
  {
   "cell_type": "markdown",
   "metadata": {},
   "source": [
    "If you type `Polaris` at the command line with no arguments or with `--help` you'll get the following quick reference of available subcommands."
   ]
  },
  {
   "cell_type": "code",
   "execution_count": 1,
   "metadata": {},
   "outputs": [
    {
     "name": "stdout",
     "output_type": "stream",
     "text": [
      "Usage: polaris [OPTIONS] COMMAND [ARGS]...\n",
      "\n",
      "  Polaris\n",
      "\n",
      "  A Versatile Framework for Chromatin Loop Annotation in Bulk and Single-cell\n",
      "  Hi-C Data\n",
      "\n",
      "Options:\n",
      "  --help  Show this message and exit.\n",
      "\n",
      "Commands:\n",
      "  loop  Loop annotation.\n",
      "  util  Utilities.\n"
     ]
    }
   ],
   "source": [
    "%%bash\n",
    "\n",
    "polaris --help"
   ]
  },
  {
   "cell_type": "markdown",
   "metadata": {},
   "source": [
    "## polaris subcommand\n",
    "\n",
    "For more information about a specific subcommand, type `polaris <subcommand> --help` to display the help text."
   ]
  },
  {
   "cell_type": "markdown",
   "metadata": {},
   "source": [
    "### Polaris loop"
   ]
  },
  {
   "cell_type": "code",
   "execution_count": 2,
   "metadata": {},
   "outputs": [
    {
     "name": "stdout",
     "output_type": "stream",
     "text": [
      "Usage: polaris loop [OPTIONS] COMMAND [ARGS]...\n",
      "\n",
      "  Loop annotation.\n",
      "\n",
      "  Annotate loops from chromosomal contact maps.\n",
      "\n",
      "Options:\n",
      "  --help  Show this message and exit.\n",
      "\n",
      "Commands:\n",
      "  pool     Call loops from loop candidates by clustering\n",
      "  pred     Predict loops from input contact map directly\n",
      "  score    Predict loop score for each pixel in the input contact map\n",
      "  scorelf  *development* Score Pixels for Very Large mcool (>30GB) ...\n"
     ]
    }
   ],
   "source": [
    "%%bash\n",
    "\n",
    "polaris loop --help"
   ]
  },
  {
   "cell_type": "markdown",
   "metadata": {},
   "source": [
    "### Polaris util"
   ]
  },
  {
   "cell_type": "code",
   "execution_count": 3,
   "metadata": {},
   "outputs": [
    {
     "name": "stdout",
     "output_type": "stream",
     "text": [
      "Usage: polaris util [OPTIONS] COMMAND [ARGS]...\n",
      "\n",
      "  Utilities.\n",
      "\n",
      "  Utilities for analysis and visualization.\n",
      "\n",
      "Options:\n",
      "  --help  Show this message and exit.\n",
      "\n",
      "Commands:\n",
      "  cool2bcool  covert a .mcool file to a .bcool file\n",
      "  depth       Calculate intra-chromosomal contacts with bin distance >=...\n",
      "  pileup      2D pileup contact maps around given foci\n"
     ]
    }
   ],
   "source": [
    "%%bash\n",
    "\n",
    "polaris util --help"
   ]
  },
  {
   "cell_type": "markdown",
   "metadata": {},
   "source": [
    "# Detailed Instructions\n",
    "\n",
    "For detailed instructions of each subcommand, please refer to [Polaris Doc](https://nucleome-polaris.readthedocs.io/en/latest/) and tutorials :\n",
    "- [Loop Annotation tutorial](https://github.com/ai4nucleome/Polaris/blob/master/example/loop_annotation/loop_annotation.ipynb)\n",
    "- [Aggregated Peak Analysis tutorial](https://github.com/ai4nucleome/Polaris/blob/master/example/APA/APA.ipynb) "
   ]
  },
  {
   "cell_type": "markdown",
   "metadata": {},
   "source": []
  }
 ],
 "metadata": {
  "kernelspec": {
   "display_name": "polaris",
   "language": "python",
   "name": "python3"
  },
  "language_info": {
   "codemirror_mode": {
    "name": "ipython",
    "version": 3
   },
   "file_extension": ".py",
   "mimetype": "text/x-python",
   "name": "python",
   "nbconvert_exporter": "python",
   "pygments_lexer": "ipython3",
   "version": "3.9.20"
  }
 },
 "nbformat": 4,
 "nbformat_minor": 2
}
