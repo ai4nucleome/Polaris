{
 "cells": [
  {
   "cell_type": "markdown",
   "metadata": {},
   "source": [
    "# Loop Annotation"
   ]
  },
  {
   "cell_type": "markdown",
   "metadata": {},
   "source": [
    "## Input files"
   ]
  },
  {
   "cell_type": "markdown",
   "metadata": {},
   "source": [
    "Polaris requires a `.mcool` file as input. You can obtain `.mcool` files in the following ways:"
   ]
  },
  {
   "cell_type": "markdown",
   "metadata": {},
   "source": [
    "### 1. Download from the 4DN Database\n",
    "\n",
    "- Visit the [4DN Data Portal](https://data.4dnucleome.org/).\n",
    "- Search for and download `.mcool` files suitable for your study."
   ]
  },
  {
   "cell_type": "markdown",
   "metadata": {},
   "source": [
    "### 2. Convert Files Using cooler\n",
    "\n",
    "If you have data in formats such as `.pairs` or `.cool`, you can convert them to `.mcool` format using the Python library [cooler](https://cooler.readthedocs.io/en/latest/index.html). Follow these steps:\n",
    "\n",
    "- **Install cooler**\n",
    "\n",
    "  Ensure you have installed cooler using the following command:\n",
    "  ```bash\n",
    "  pip install cooler\n",
    "  ```\n",
    "- **Convert .pairs to .cool**\n",
    "\n",
    "   If you are starting with a .pairs file (e.g., normalized contact data with columns for chrom1, pos1, chrom2, pos2), use this command to create a .cool file:\n",
    "   ```bash\n",
    "   cooler cload pairs --assembly <genome_version> -c1 chrom1 -p1 pos1 -c2 chrom2 -p2 pos2 <pairs_file> <resolution>.cool\n",
    "   ```\n",
    "   Replace `<genome_version> with the appropriate genome assembly (e.g., hg38) and <resolution> with the desired bin size in base pairs.\n",
    "- **Generate a Multiresolution .mcool File**\n",
    "\n",
    "   To convert a single-resolution .cool file into a multiresolution .mcool file, use the following command:\n",
    "\n",
    "   ```bash\n",
    "   cooler zoomify <input.cool>\n",
    "   ```"
   ]
  },
  {
   "cell_type": "markdown",
   "metadata": {},
   "source": [
    "The resulting `.mcool` file can be directly used as input for Polaris."
   ]
  },
  {
   "cell_type": "markdown",
   "metadata": {},
   "source": [
    "## Loop Annotation by Polaris"
   ]
  },
  {
   "cell_type": "markdown",
   "metadata": {},
   "source": [
    "Polaris provides two methods to generate loop annotations for input `.mcool` file. Both methods ultimately yield consistent loop results."
   ]
  },
  {
   "cell_type": "markdown",
   "metadata": {},
   "source": [
    "### Method 1: polaris loop pred\n",
    "\n",
    "This is the simplest approach, allowing you to directly predict loops in a single step.\n",
    "The command below will take approximately 30 seconds, depending on your device, to identify loops in GM12878 data (250M valid read pairs)."
   ]
  },
  {
   "cell_type": "code",
   "execution_count": 5,
   "metadata": {},
   "outputs": [
    {
     "name": "stdout",
     "output_type": "stream",
     "text": [
      "use gping cuda:0\n",
      "\n",
      "Analysing chroms: ['chr15', 'chr16', 'chr17']\n"
     ]
    },
    {
     "name": "stderr",
     "output_type": "stream",
     "text": [
      "[analyzing chr17]: 100%|██████████| 3/3 [00:24<00:00,  8.31s/it]\n",
      "[Runing clustering on chr15]: 100%|██████████| 3/3 [00:01<00:00,  1.87it/s]\n"
     ]
    },
    {
     "name": "stdout",
     "output_type": "stream",
     "text": [
      "1830 loops saved to  GM12878_250M_chr151617_loops.bedpe\n"
     ]
    }
   ],
   "source": [
    "%%bash\n",
    "\n",
    "polaris loop pred --chrom chr15,chr16,chr17 -i GM12878_250M.bcool -o GM12878_250M_chr151617_loops.bedpe "
   ]
  },
  {
   "cell_type": "markdown",
   "metadata": {},
   "source": [
    "> **Note:** If you encounter a `CUDA OUT OF MEMORY` error, please:\n",
    "> - Check your GPU's status and available memory.\n",
    "> - Reduce the --batchsize parameter. (The default value of 128 requires approximately 36GB of CUDA memory. Setting it to 24 will reduce the requirement to less than 10GB.)"
   ]
  },
  {
   "cell_type": "markdown",
   "metadata": {},
   "source": [
    "### Method 2: polaris loop score and polaris loop pool"
   ]
  },
  {
   "cell_type": "markdown",
   "metadata": {},
   "source": [
    "This method involves two steps: generating loop scores for each pixel in the contact map and clustering these scores to call loops.\n"
   ]
  },
  {
   "cell_type": "markdown",
   "metadata": {},
   "source": [
    "**Step 1: Generate Loop Scores**\n",
    "\n",
    "Run the following command to calculate the loop score for each pixel in the input contact map and save the result in `GM12878_250M_chr151617_loop_score.bedpe`."
   ]
  },
  {
   "cell_type": "code",
   "execution_count": 6,
   "metadata": {},
   "outputs": [
    {
     "name": "stdout",
     "output_type": "stream",
     "text": [
      "use gping cuda:0\n",
      "\n",
      "Analysing chroms: ['chr15', 'chr16', 'chr17']\n"
     ]
    },
    {
     "name": "stderr",
     "output_type": "stream",
     "text": [
      "[analyzing chr17]: 100%|██████████| 3/3 [00:34<00:00, 11.37s/it]\n"
     ]
    }
   ],
   "source": [
    "%%bash\n",
    "\n",
    "polaris loop score --chrom chr15,chr16,chr17 -i GM12878_250M.bcool -o GM12878_250M_chr151617_loop_score.bedpe "
   ]
  },
  {
   "cell_type": "markdown",
   "metadata": {},
   "source": [
    "**Step 2: Call Loops from Loop Candidates**\n",
    "\n",
    "Use the following command to identify loops by clustering from the generated loop score file."
   ]
  },
  {
   "cell_type": "code",
   "execution_count": 7,
   "metadata": {},
   "outputs": [
    {
     "name": "stderr",
     "output_type": "stream",
     "text": [
      "[Runing clustering on chr16]: 100%|██████████| 3/3 [00:01<00:00,  1.72it/s]\n"
     ]
    },
    {
     "name": "stdout",
     "output_type": "stream",
     "text": [
      "1830 loops saved to  GM12878_250M_chr151617_loops_method2.bedpe\n"
     ]
    }
   ],
   "source": [
    "%%bash\n",
    "\n",
    "polaris loop pool -i GM12878_250M_chr151617_loop_score.bedpe  -o GM12878_250M_chr151617_loops_method2.bedpe "
   ]
  },
  {
   "cell_type": "markdown",
   "metadata": {},
   "source": [
    "We can see both methods ultimately yield consistent loop number.\n",
    "\n",
    "The we can perform [Aggregate Peak Analysis](https://github.com/ai4nucleome/Polaris/blob/master/example/APA/APA.ipynb) to visualize these results."
   ]
  },
  {
   "cell_type": "markdown",
   "metadata": {},
   "source": []
  }
 ],
 "metadata": {
  "kernelspec": {
   "display_name": "polaris",
   "language": "python",
   "name": "python3"
  },
  "language_info": {
   "codemirror_mode": {
    "name": "ipython",
    "version": 3
   },
   "file_extension": ".py",
   "mimetype": "text/x-python",
   "name": "python",
   "nbconvert_exporter": "python",
   "pygments_lexer": "ipython3",
   "version": "3.9.20"
  }
 },
 "nbformat": 4,
 "nbformat_minor": 2
}
